{
  "nbformat": 4,
  "nbformat_minor": 0,
  "metadata": {
    "colab": {
      "name": "TesrFinale.ipynb",
      "provenance": [],
      "authorship_tag": "ABX9TyPYIgx55NetK27jLrPqjl9J",
      "include_colab_link": true
    },
    "kernelspec": {
      "name": "python3",
      "display_name": "Python 3"
    }
  },
  "cells": [
    {
      "cell_type": "markdown",
      "metadata": {
        "id": "view-in-github",
        "colab_type": "text"
      },
      "source": [
        "<a href=\"https://colab.research.google.com/github/Emaniro/TestFinale/blob/main/TesrFinale.ipynb\" target=\"_parent\"><img src=\"https://colab.research.google.com/assets/colab-badge.svg\" alt=\"Open In Colab\"/></a>"
      ]
    },
    {
      "cell_type": "markdown",
      "metadata": {
        "id": "EIply1GXKofF"
      },
      "source": [
        "# **Connettivo And**"
      ]
    },
    {
      "cell_type": "code",
      "metadata": {
        "colab": {
          "base_uri": "https://localhost:8080/"
        },
        "id": "Hywmw778Kv49",
        "outputId": "5b779f06-6866-453f-9776-f8ad0c827336"
      },
      "source": [
        "valori_possibili = (False, True)\r\n",
        "\r\n",
        "for A in valori_possibili:\r\n",
        "  for B in valori_possibili:\r\n",
        "    print(f'{A} AND {B} = {A and B}')"
      ],
      "execution_count": 5,
      "outputs": [
        {
          "output_type": "stream",
          "text": [
            "False AND False = False\n",
            "False AND True = False\n",
            "True AND False = False\n",
            "True AND True = True\n"
          ],
          "name": "stdout"
        }
      ]
    },
    {
      "cell_type": "markdown",
      "metadata": {
        "id": "rQyeImXiGgu_"
      },
      "source": [
        "# **Connettivo OR**"
      ]
    },
    {
      "cell_type": "code",
      "metadata": {
        "colab": {
          "base_uri": "https://localhost:8080/"
        },
        "id": "6RpuHQ15Kjl3",
        "outputId": "7c3158d3-5258-4894-c7a3-c52699b1f07c"
      },
      "source": [
        "#Connettivo OR\r\n",
        "valori_possibili = (False, True)\r\n",
        "\r\n",
        "for A in valori_possibili:\r\n",
        "  for B in valori_possibili:\r\n",
        "    print(f'{A} OR {B} = {A or B}')"
      ],
      "execution_count": 4,
      "outputs": [
        {
          "output_type": "stream",
          "text": [
            "False OR False = False\n",
            "False OR True = True\n",
            "True OR False = True\n",
            "True OR True = True\n"
          ],
          "name": "stdout"
        }
      ]
    },
    {
      "cell_type": "markdown",
      "metadata": {
        "id": "u7BmrWXIK2Is"
      },
      "source": [
        "# **Connettivo Not**"
      ]
    },
    {
      "cell_type": "code",
      "metadata": {
        "colab": {
          "base_uri": "https://localhost:8080/"
        },
        "id": "p938wuBTLxTv",
        "outputId": "c36000d5-b0f5-475d-84cc-9f9e1b222d53"
      },
      "source": [
        "valori_possibili = (False, True)\r\n",
        "\r\n",
        "for A in valori_possibili:\r\n",
        "  print(f'NOT {A} = {not A} ')"
      ],
      "execution_count": 6,
      "outputs": [
        {
          "output_type": "stream",
          "text": [
            "NOT False = True \n",
            "NOT True = False \n"
          ],
          "name": "stdout"
        }
      ]
    },
    {
      "cell_type": "markdown",
      "metadata": {
        "id": "cwInM3HwL0uk"
      },
      "source": [
        "# **Connettivo XOR**"
      ]
    },
    {
      "cell_type": "code",
      "metadata": {
        "colab": {
          "base_uri": "https://localhost:8080/"
        },
        "id": "3ifSlyRLL6Ec",
        "outputId": "dfaea665-8063-49ae-e6bf-f833cb7c8f57"
      },
      "source": [
        "valori_possibili = (False, True)\r\n",
        "\r\n",
        "for A in valori_possibili:\r\n",
        "  for B in valori_possibili:\r\n",
        "    print(f'{A} XOR {B} = {(not A and B) or (A and not B)}')\r\n"
      ],
      "execution_count": 7,
      "outputs": [
        {
          "output_type": "stream",
          "text": [
            "False XOR False = False\n",
            "False XOR True = True\n",
            "True XOR False = True\n",
            "True XOR True = False\n"
          ],
          "name": "stdout"
        }
      ]
    },
    {
      "cell_type": "markdown",
      "metadata": {
        "id": "NUSGX2tRL-D1"
      },
      "source": [
        "# **Connettivo Freccia**"
      ]
    },
    {
      "cell_type": "code",
      "metadata": {
        "colab": {
          "base_uri": "https://localhost:8080/"
        },
        "id": "fsZqIKREL-NG",
        "outputId": "77db07aa-be4b-4a35-8d0d-1362fe2e5223"
      },
      "source": [
        "def freccia(ipotesi,tesi):\r\n",
        "  return (not ipotesi or tesi)\r\n",
        "\r\n",
        "valori_possibili = (False, True)\r\n",
        "\r\n",
        "for A in valori_possibili:\r\n",
        "  for B in valori_possibili:\r\n",
        "    print(f'{A} -> {B} = {freccia(A,B)}')"
      ],
      "execution_count": 8,
      "outputs": [
        {
          "output_type": "stream",
          "text": [
            "False -> False = True\n",
            "False -> True = True\n",
            "True -> False = False\n",
            "True -> True = True\n"
          ],
          "name": "stdout"
        }
      ]
    }
  ]
}