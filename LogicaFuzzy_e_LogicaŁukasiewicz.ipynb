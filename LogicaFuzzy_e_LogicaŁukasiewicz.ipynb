{
  "nbformat": 4,
  "nbformat_minor": 0,
  "metadata": {
    "colab": {
      "name": "LogicaFuzzy_e_LogicaŁukasiewicz.ipynb",
      "provenance": [],
      "toc_visible": true,
      "authorship_tag": "ABX9TyMe1NlAnh1eFPdRl85+cZ8H",
      "include_colab_link": true
    },
    "kernelspec": {
      "name": "python3",
      "display_name": "Python 3"
    }
  },
  "cells": [
    {
      "cell_type": "markdown",
      "metadata": {
        "id": "view-in-github",
        "colab_type": "text"
      },
      "source": [
        "<a href=\"https://colab.research.google.com/github/Emaniro/TestFinale/blob/main/LogicaFuzzy_e_Logica%C5%81ukasiewicz.ipynb\" target=\"_parent\"><img src=\"https://colab.research.google.com/assets/colab-badge.svg\" alt=\"Open In Colab\"/></a>"
      ]
    },
    {
      "cell_type": "markdown",
      "metadata": {
        "id": "bMgyW3kHUG_R"
      },
      "source": [
        "# **Logica Fuzzy**\r\n",
        "\r\n",
        "Per logica fuzzy si intende una logica in cui si può attribuire a ciascuna proposizione un grado di verità diverso da 0 e 1 e compreso tra di loro, consiste in una logica polivalente cioè:\r\n",
        "\r\n",
        "Con grado di verità o valore di appartenenza, che può essere, oltre che vera (1) o falsa (0) come nella logica classica, anche parzialmente vera e parzialmente falsa.\r\n",
        "\r\n",
        "Si può ad esempio dire che:\r\n",
        "\r\n",
        "un neonato è \"giovane\" di valore 1\r\n",
        "\r\n",
        "un diciottenne è \"giovane\" di valore 0,8\r\n",
        "\r\n",
        "un sessantacinquenne è \"giovane\" di valore 0,15\r\n",
        "\r\n",
        "\r\n",
        "\r\n",
        "\r\n",
        "\r\n",
        "\r\n",
        "\r\n"
      ]
    }
  ]
}