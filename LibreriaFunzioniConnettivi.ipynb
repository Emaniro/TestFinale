{
  "nbformat": 4,
  "nbformat_minor": 0,
  "metadata": {
    "colab": {
      "name": "LibreriaFunzioniConnettivi.ipynb",
      "provenance": [],
      "toc_visible": true,
      "include_colab_link": true
    },
    "kernelspec": {
      "name": "python3",
      "display_name": "Python 3"
    }
  },
  "cells": [
    {
      "cell_type": "markdown",
      "metadata": {
        "id": "view-in-github",
        "colab_type": "text"
      },
      "source": [
        "<a href=\"https://colab.research.google.com/github/Emaniro/TestFinale/blob/main/LibreriaFunzioniConnettivi.ipynb\" target=\"_parent\"><img src=\"https://colab.research.google.com/assets/colab-badge.svg\" alt=\"Open In Colab\"/></a>"
      ]
    },
    {
      "cell_type": "markdown",
      "metadata": {
        "id": "4oovU6_Xft8p"
      },
      "source": [
        "# Libreria funzioni connettivi\r\n",
        "printf(\"\\n\");printf(\"\\n\");printf(\"\\n\");"
      ]
    },
    {
      "cell_type": "code",
      "metadata": {
        "id": "tktXYWqnfxSx"
      },
      "source": [
        "def e(var1,var2):\r\n",
        "  return var1 and var2\r\n",
        "\r\n",
        "def o(var1,var2):\r\n",
        "  return var1 or var2\r\n",
        "\r\n",
        "def freccia(ipotesi,tesi):\r\n",
        "  return (not ipotesi or tesi)\r\n",
        "\r\n",
        "def oppure(var1,var2):\r\n",
        "  return (not var1 and var2) or (var1 and not var2)"
      ],
      "execution_count": null,
      "outputs": []
    },
    {
      "cell_type": "code",
      "metadata": {
        "id": "lXq2BBHdfzdq"
      },
      "source": [
        "def stampa_tabella(formula):\r\n",
        "  valori_possibili = (False, True)\r\n",
        "\r\n",
        "  for A in valori_possibili:\r\n",
        "    for B in valori_possibili:\r\n",
        "      print(f'{formula(A,B)}')"
      ],
      "execution_count": null,
      "outputs": []
    },
    {
      "cell_type": "code",
      "metadata": {
        "colab": {
          "base_uri": "https://localhost:8080/"
        },
        "id": "VzGBC_8XgDYd",
        "outputId": "afecab50-1003-4403-c5d5-c972d17f1bf5"
      },
      "source": [
        "stampa_tabella(oppure)"
      ],
      "execution_count": null,
      "outputs": [
        {
          "output_type": "stream",
          "text": [
            "False\n",
            "True\n",
            "True\n",
            "False\n"
          ],
          "name": "stdout"
        }
      ]
    },
    {
      "cell_type": "code",
      "metadata": {
        "id": "dFOe9GFCgG7T",
        "colab": {
          "base_uri": "https://localhost:8080/"
        },
        "outputId": "dac50b46-f8c2-46c1-9d10-86ebae154983"
      },
      "source": [
        "stampa_tabella(freccia)"
      ],
      "execution_count": null,
      "outputs": [
        {
          "output_type": "stream",
          "text": [
            "True\n",
            "True\n",
            "False\n",
            "True\n"
          ],
          "name": "stdout"
        }
      ]
    },
    {
      "cell_type": "code",
      "metadata": {
        "id": "y1LZ7y8xKhSx",
        "colab": {
          "base_uri": "https://localhost:8080/"
        },
        "outputId": "024b0c6c-9e0c-48b1-e549-da7bdce7bc1f"
      },
      "source": [
        "stampa_tabella(o)"
      ],
      "execution_count": null,
      "outputs": [
        {
          "output_type": "stream",
          "text": [
            "False\n",
            "True\n",
            "True\n",
            "True\n"
          ],
          "name": "stdout"
        }
      ]
    },
    {
      "cell_type": "code",
      "metadata": {
        "id": "hC-2rLN7K15R",
        "colab": {
          "base_uri": "https://localhost:8080/"
        },
        "outputId": "050a3ab2-3157-4947-ad64-f2ed50aef706"
      },
      "source": [
        "stampa_tabella(e)"
      ],
      "execution_count": null,
      "outputs": [
        {
          "output_type": "stream",
          "text": [
            "False\n",
            "False\n",
            "False\n",
            "True\n"
          ],
          "name": "stdout"
        }
      ]
    }
  ]
}