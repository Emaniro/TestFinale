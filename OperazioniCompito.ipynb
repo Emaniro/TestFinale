{
  "nbformat": 4,
  "nbformat_minor": 0,
  "metadata": {
    "colab": {
      "name": "OperazioniCompito.ipynb",
      "provenance": [],
      "include_colab_link": true
    },
    "kernelspec": {
      "name": "python3",
      "display_name": "Python 3"
    }
  },
  "cells": [
    {
      "cell_type": "markdown",
      "metadata": {
        "id": "view-in-github",
        "colab_type": "text"
      },
      "source": [
        "<a href=\"https://colab.research.google.com/github/Emaniro/TestFinale/blob/main/OperazioniCompito.ipynb\" target=\"_parent\"><img src=\"https://colab.research.google.com/assets/colab-badge.svg\" alt=\"Open In Colab\"/></a>"
      ]
    },
    {
      "cell_type": "code",
      "metadata": {
        "id": "SST06olcBa6H"
      },
      "source": [
        "def a(var1): \r\n",
        "  return var1 or (not var1)\r\n",
        "\r\n",
        "def b(var1, var2):\r\n",
        "  return (not (not var1) or var2)"
      ],
      "execution_count": null,
      "outputs": []
    },
    {
      "cell_type": "code",
      "metadata": {
        "id": "WXuFjbjHDWw6"
      },
      "source": [
        "def stampa_tabella(formula):\r\n",
        "  valori = (0,1)\r\n",
        " \r\n",
        "  if formula == 'a':\r\n",
        "    for A in valori:\r\n",
        "      print(f'{A} | {eval(formula+\"(A)\")}')\r\n",
        "      \r\n",
        "  else:               \r\n",
        "    for A in valori:\r\n",
        "      for B in valori:\r\n",
        "        print(f' {A} | {B} | {eval(formula+\"(A,B)\")}')\r\n",
        "         "
      ],
      "execution_count": null,
      "outputs": []
    },
    {
      "cell_type": "code",
      "metadata": {
        "id": "G2hmZ0C7Dgy3",
        "colab": {
          "base_uri": "https://localhost:8080/"
        },
        "outputId": "e59a1100-9fe8-4a81-bfbc-75b94e5cdfb8"
      },
      "source": [
        "\r\n",
        "risposta = 'si'\r\n",
        "while risposta == 'si':\r\n",
        "  \r\n",
        "  operazione = input('Quale Operazione Vuoi Effettuare? \"a\" \"b\"')\r\n",
        "  stampa_tabella(operazione)\r\n",
        "  risposta = input('\\nUn\\'altra Operazione? Si, no')\r\n"
      ],
      "execution_count": 12,
      "outputs": [
        {
          "output_type": "stream",
          "text": [
            "Quale Operazione Vuoi Effettuare? \"a\" \"b\" b\n",
            " 0 | 0 | 0\n",
            " 0 | 1 | 1\n",
            " 1 | 0 | True\n",
            " 1 | 1 | True\n",
            "\n",
            "Un'altra Operazione? Si, no  no\n"
          ],
          "name": "stdout"
        }
      ]
    }
  ]
}